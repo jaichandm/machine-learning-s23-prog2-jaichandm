{
 "cells": [
  {
   "attachments": {},
   "cell_type": "markdown",
   "metadata": {},
   "source": [
    "## Assignment 2 - Numpy, Slices, Comprehensions"
   ]
  },
  {
   "attachments": {},
   "cell_type": "markdown",
   "metadata": {},
   "source": [
    "## Part 1\n",
    "* Read a string from input using a prompt\n",
    "* Use a list comprehension to create a list of all the characters in the string.\n",
    "* Use a set conversion to get the unique characters and print that number.\n"
   ]
  },
  {
   "cell_type": "code",
   "execution_count": 3,
   "metadata": {},
   "outputs": [
    {
     "name": "stdout",
     "output_type": "stream",
     "text": [
      "Number of unique characters: 4\n"
     ]
    }
   ],
   "source": [
    "input_string = input(\"Enter a string: \")\n",
    "char_list = [char for char in input_string]\n",
    "unique_chars = set(char_list)\n",
    "print(\"Number of unique characters:\", len(unique_chars))\n"
   ]
  },
  {
   "attachments": {},
   "cell_type": "markdown",
   "metadata": {},
   "source": [
    "## Part 2\n",
    "* Create a function `powers` that will use input and split() to read two values: x (float) and n (integer).  \n",
    "* Use a list comprehension to create a list of the powers of x.\n",
    "\n",
    "$[x^0, x^1, x^2, ..., x^n]$\n",
    "\n",
    "* Convert that list to a numpy array and return it.\n",
    "\n",
    "\n",
    "Call powers twice to create two arrays with n=10 and x=1.7 and x=2.1 and then plot each array using matplotlib.  You do not need to lable the axises\n",
    "\n"
   ]
  },
  {
   "cell_type": "code",
   "execution_count": null,
   "metadata": {},
   "outputs": [],
   "source": []
  },
  {
   "attachments": {},
   "cell_type": "markdown",
   "metadata": {},
   "source": [
    "## Part 3\n",
    "* Use the `powers` function to create an array x_values with x=0.9 and n=500\n",
    "* Use the sin function from numpy on the array to create y_values  (No explicit iteration is needed.)\n",
    "\n",
    "* Use matplotlib to create a scatter plot with the x_values and y_values.\n"
   ]
  },
  {
   "attachments": {},
   "cell_type": "markdown",
   "metadata": {},
   "source": [
    "## Part 4\n",
    "* Write a function `shuffle` that will take a list as an argument and perform a perfect shuffle on it.  It will use slices to create two new lists `left` and `right` that respectively have the first and second halves of the list. Zip the two lists together into a variable `both`.  Iterate over the pairs and construct the perfect shuffle and return that in a new list.  You can construct the list as you go.\n",
    "\n",
    "shuffle([1,2,3,4,5,6,7,8]) should be [1,4,2,5,3,6,4,8]\n",
    "\n",
    "You may assume that the list has an even number of values. If not, the behavior of the function is undefined. (May return an arbitrary value, throw an error, etc.)"
   ]
  },
  {
   "attachments": {},
   "cell_type": "markdown",
   "metadata": {},
   "source": [
    "## Part 5\n",
    "* Write a function minVol that takes a single argument data (numpy array) and returns a new array with True/False if the value is greater than 10.  No explicit iteration is needed.  \n",
    "* Write a second function `package_check` that takes in three numpy arrays `height`, `width`, and `length`.  \n",
    "    * Compute a new array `volumns` that multiplies the three arrays together.  No explicit iteration is needed.\n",
    "    * Compute a new array `shipable` by applying the minVol function to `volumns`.\n",
    "    * Return shipable.\n",
    "~~~    \n",
    "h=np.array([1, 4, 3])\n",
    "w=np.array([2, 3, 3])\n",
    "l=np.array([1, 5, 1])\n",
    "print(package_check(h,w,l))\n",
    "~~~\n",
    "Should be [False True False]\n",
    "\n",
    "\n",
    "\n",
    "Question: Does package_check work with three arguments that are not arrays?  Answer in a new markdown."
   ]
  },
  {
   "cell_type": "markdown",
   "metadata": {},
   "source": [
    "## Part 6\n",
    "Do at least three calls on each function you created to verify the correct operation."
   ]
  },
  {
   "attachments": {},
   "cell_type": "markdown",
   "metadata": {},
   "source": [
    "## Bonus\n",
    "* We can do a doubly nested list comprehension.  So if we have a big_list containing lists, we can iterate over the original big_list and each of the sublists... here is the form\n",
    "    [item for sub_list in big_list for item in sub_list]\n",
    "\n",
    "Think of it as an outer loop followed by and inner loop.\n",
    "\n",
    "In a new code cell\n",
    "* Update the shuffle code to use this form of comprehension\n",
    "* Fix the shuffle code so that if it has an odd number of values, it adds the last value to the end of the result.\n",
    "* Play around with different sized lists (even numbers will suffice) and see how many perfect shuffles will get back your original list.\n",
    "\n",
    "Document your results in a new markdown cell."
   ]
  }
 ],
 "metadata": {
  "kernelspec": {
   "display_name": "base",
   "language": "python",
   "name": "python3"
  },
  "language_info": {
   "codemirror_mode": {
    "name": "ipython",
    "version": 3
   },
   "file_extension": ".py",
   "mimetype": "text/x-python",
   "name": "python",
   "nbconvert_exporter": "python",
   "pygments_lexer": "ipython3",
   "version": "3.9.13"
  },
  "vscode": {
   "interpreter": {
    "hash": "346610ec181867a9ddb4fc69e75c10a045184dafdbe4499e33d5fc8e34cf82cc"
   }
  }
 },
 "nbformat": 4,
 "nbformat_minor": 2
}
